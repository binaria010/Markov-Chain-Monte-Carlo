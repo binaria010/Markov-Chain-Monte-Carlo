{
 "cells": [
  {
   "cell_type": "code",
   "execution_count": 30,
   "metadata": {},
   "outputs": [],
   "source": [
    "import networkx as nx\n",
    "from networkx.generators.random_graphs import erdos_renyi_graph\n",
    "import numpy as np\n",
    "import random\n",
    "from random import sample\n"
   ]
  },
  {
   "cell_type": "code",
   "execution_count": 47,
   "metadata": {},
   "outputs": [],
   "source": [
    "def k(G,v, X):\n",
    "\n",
    "    k_plus = sum([X[w] for w in G[v] if X[w]>0])\n",
    "\n",
    "    return k_plus\n",
    "\n",
    "def update(G, v, X, U, beta):\n",
    "\n",
    "    d = len(G[v])\n",
    "    k_plus = k(G, v, X)\n",
    "    k_minus = d - k_plus\n",
    "    p = np.exp(2*beta*(k_plus - k_minus))/(np.exp(2*beta*(k_plus - k_minus)) + 1)\n",
    "\n",
    "    if U < p :\n",
    "        X[v] = 1\n",
    "    else:\n",
    "        X[v] = -1\n",
    "    return X[v]"
   ]
  },
  {
   "cell_type": "code",
   "execution_count": 32,
   "metadata": {},
   "outputs": [],
   "source": [
    "# This functions give the maximal and minimal configuration in the Ising model \n",
    "\n",
    "def X_top(Nodes):\n",
    "\n",
    "    return np.ones(len(Nodes))\n",
    "\n",
    "def X_bot(Nodes):\n",
    "\n",
    "    return -X_top(Nodes)\n"
   ]
  },
  {
   "cell_type": "code",
   "execution_count": 33,
   "metadata": {},
   "outputs": [],
   "source": [
    "def Gibbs_Sampler(G, beta, num_iter,  X_0 = None):\n",
    "    \n",
    "    k = len(G.nodes)\n",
    "    X = np.ones((num_iter + 1, k))\n",
    "    if X_0 is not None:\n",
    "        X[0,:] = X_0\n",
    "\n",
    "    for n in range(num_iter):\n",
    "        print(X)\n",
    "        v = np.random.randint(k)\n",
    "        X[n+1, v] = update(G, v, X[n, :], beta)\n",
    "    \n",
    "    return X\n",
    "\n"
   ]
  },
  {
   "cell_type": "code",
   "execution_count": 34,
   "metadata": {},
   "outputs": [
    {
     "data": {
      "text/plain": [
       "NodeView((0, 1, 2, 3))"
      ]
     },
     "execution_count": 34,
     "metadata": {},
     "output_type": "execute_result"
    }
   ],
   "source": [
    "G = nx.Graph()\n",
    "G.add_nodes_from((0,1,2,3))\n",
    "G.add_edges_from([(0,1), (0, 3), (1, 2), (2, 3)])\n",
    "#Gibbs_Sampler(G, 0.2, 5)\n",
    "G.nodes"
   ]
  },
  {
   "cell_type": "code",
   "execution_count": 87,
   "metadata": {},
   "outputs": [],
   "source": [
    "# Ising Model\n",
    "\n",
    "def Ising(G, beta):\n",
    "\n",
    "    Nodes = list(G.nodes)\n",
    "    k = len(Nodes)\n",
    "    p = 1 # p is the epoch or stage\n",
    "    U = []\n",
    "    while p>0:\n",
    "        \n",
    "        N_p = 2**(p-1)\n",
    "        U = U + list(np.random.uniform(size = N_p + 1))\n",
    "        #print(p, U)\n",
    "\n",
    "        X = X_top(Nodes)  # MC initialized in maximal spin config\n",
    "        Y = -X    # MC initialized in minimal spin config\n",
    "\n",
    "        for i in range(-N_p, 1):\n",
    "            v = np.random.randint(k)\n",
    "            X[v] = update(G, v, X, U[-i], beta)\n",
    "            Y[v] = update(G, v, Y, U[-i], beta)\n",
    "            #print(i, X, Y)\n",
    "        \n",
    "        if sum(X == Y)< len(Nodes) :\n",
    "            p = p + 1\n",
    "        else:\n",
    "            break\n",
    "    print(\"It took \", p,\" stages to achieve the config\")\n",
    "    return X,Y\n",
    "        \n"
   ]
  },
  {
   "cell_type": "code",
   "execution_count": 91,
   "metadata": {},
   "outputs": [
    {
     "name": "stdout",
     "output_type": "stream",
     "text": [
      "It took  5  stages to achieve the congif\n"
     ]
    },
    {
     "data": {
      "text/plain": [
       "(array([-1., -1., -1.,  1.]), array([-1., -1., -1.,  1.]))"
      ]
     },
     "execution_count": 91,
     "metadata": {},
     "output_type": "execute_result"
    }
   ],
   "source": [
    "# Example:\n",
    "\n",
    "G = nx.Graph()\n",
    "G.add_nodes_from((0,1,2,3))\n",
    "G.add_edges_from([(0,1), (0, 3), (1, 2), (2, 3)])\n",
    "\n",
    "Ising(G, 0.05)"
   ]
  },
  {
   "cell_type": "code",
   "execution_count": 77,
   "metadata": {},
   "outputs": [
    {
     "data": {
      "text/plain": [
       "False"
      ]
     },
     "execution_count": 77,
     "metadata": {},
     "output_type": "execute_result"
    }
   ],
   "source": [
    "X = np.ones(3)\n",
    "Y = np.array([1,2,3])\n",
    "np.array_equal(X,Y)"
   ]
  },
  {
   "cell_type": "code",
   "execution_count": 96,
   "metadata": {},
   "outputs": [],
   "source": [
    "G = nx.grid_2d_graph(2, 2)"
   ]
  }
 ],
 "metadata": {
  "interpreter": {
   "hash": "cd78fef2128015050713e82ca51c6520b11aee7c9ee8df750520bbbc7384cbaa"
  },
  "kernelspec": {
   "display_name": "Python 3.9.7 ('base')",
   "language": "python",
   "name": "python3"
  },
  "language_info": {
   "codemirror_mode": {
    "name": "ipython",
    "version": 3
   },
   "file_extension": ".py",
   "mimetype": "text/x-python",
   "name": "python",
   "nbconvert_exporter": "python",
   "pygments_lexer": "ipython3",
   "version": "3.9.7"
  },
  "orig_nbformat": 4
 },
 "nbformat": 4,
 "nbformat_minor": 2
}
